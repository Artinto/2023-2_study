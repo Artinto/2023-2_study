{
 "cells": [
  {
   "cell_type": "code",
   "execution_count": null,
   "id": "e22d7d64",
   "metadata": {},
   "outputs": [],
   "source": [
    "def solution(sizes):\n",
    "    w, h = 0,0\n",
    "    w_sort=sorted(sizes, key=lambda x:x[0]) # w로 정렬 오름차순\n",
    "    h_sort=sorted(sizes, key=lambda x:x[1]) # h로 정렬 오름차순\n",
    "    if w_sort[-1][0] > h_sort[-1][1]:\n",
    "        w = w_sort[-1][0]\n",
    "        h = w_sort[-1][1]\n",
    "        for size in h_sort:\n",
    "            if h >= size[1] or (w>=size[1] and h>=size[0]):\n",
    "                pass\n",
    "            else:\n",
    "                if size[0] > size[1]:\n",
    "                    h = size[1]\n",
    "                else:\n",
    "                    h=size[0]\n",
    "        answer = w*h\n",
    "    else:# w_sort[-1][0] < h_sort[-1][1]: \n",
    "        w = h_sort[-1][0]\n",
    "        h = h_sort[-1][1]\n",
    "        for size in w_sort:\n",
    "            if w >= size[0] or (h>=size[0] and w>=size[1]):\n",
    "                pass\n",
    "            else:\n",
    "                if size[0] > size[1]:\n",
    "                    w = size[1]\n",
    "                else:\n",
    "                    w = size[0]\n",
    "        answer = w*h\n",
    "    return answer"
   ]
  }
 ],
 "metadata": {
  "kernelspec": {
   "display_name": "Python 3 (ipykernel)",
   "language": "python",
   "name": "python3"
  },
  "language_info": {
   "codemirror_mode": {
    "name": "ipython",
    "version": 3
   },
   "file_extension": ".py",
   "mimetype": "text/x-python",
   "name": "python",
   "nbconvert_exporter": "python",
   "pygments_lexer": "ipython3",
   "version": "3.9.7"
  }
 },
 "nbformat": 4,
 "nbformat_minor": 5
}
