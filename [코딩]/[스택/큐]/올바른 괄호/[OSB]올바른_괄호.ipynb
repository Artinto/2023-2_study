{
  "nbformat": 4,
  "nbformat_minor": 0,
  "metadata": {
    "colab": {
      "provenance": []
    },
    "kernelspec": {
      "name": "python3",
      "display_name": "Python 3"
    },
    "language_info": {
      "name": "python"
    }
  },
  "cells": [
    {
      "cell_type": "code",
      "execution_count": null,
      "metadata": {
        "id": "plg2A1ysMNBK"
      },
      "outputs": [],
      "source": [
        "from collections import deque\n",
        "def solution(s):\n",
        "    dq = deque()\n",
        "    for i in s:\n",
        "        if i == '(':\n",
        "            dq.append('(')\n",
        "        else:\n",
        "            if len(dq) == 0:\n",
        "                return False\n",
        "            elif dq.pop() != '(':\n",
        "                return False\n",
        "\n",
        "    if len(dq) == 0:\n",
        "        answer = True\n",
        "    else:\n",
        "        answer = False\n",
        "    return answer"
      ]
    }
  ]
}