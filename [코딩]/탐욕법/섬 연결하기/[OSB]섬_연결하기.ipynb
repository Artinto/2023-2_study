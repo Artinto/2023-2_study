{
  "nbformat": 4,
  "nbformat_minor": 0,
  "metadata": {
    "colab": {
      "provenance": []
    },
    "kernelspec": {
      "name": "python3",
      "display_name": "Python 3"
    },
    "language_info": {
      "name": "python"
    }
  },
  "cells": [
    {
      "cell_type": "code",
      "execution_count": 46,
      "metadata": {
        "id": "tYnRkorU-idI"
      },
      "outputs": [],
      "source": [
        "def solution(n, costs):\n",
        "    sort_costs=sorted(costs, key=lambda x:x[2])\n",
        "    connect_list = [-1 for _ in range(n)]\n",
        "    answer = 0\n",
        "    for cost in sort_costs:\n",
        "        first = cost[0]\n",
        "        second = cost[1]\n",
        "        if first in connect_list and second in connect_list:\n",
        "            pass\n",
        "        else:\n",
        "            connect_list[first] = first\n",
        "            connect_list[second] = second\n",
        "            answer += cost[2]\n",
        "        if -1 not in connect_list:\n",
        "            break\n",
        "    print(connect_list)\n",
        "    return answer"
      ]
    },
    {
      "cell_type": "code",
      "source": [
        "solution(7,  [[2, 3, 7], [3, 6, 13], [3, 5, 23], [5, 6, 25], [0, 1, 29], [1, 5, 34], [1, 2, 35], [4, 5, 53], [0, 4, 75]])"
      ],
      "metadata": {
        "colab": {
          "base_uri": "https://localhost:8080/"
        },
        "id": "dxJ7zENYbXK7",
        "outputId": "750eb485-dda6-4066-be2a-5afc11cd02b6"
      },
      "execution_count": 47,
      "outputs": [
        {
          "output_type": "stream",
          "name": "stdout",
          "text": [
            "[0, 1, 2, 3, 4, 5, 6]\n"
          ]
        },
        {
          "output_type": "execute_result",
          "data": {
            "text/plain": [
              "125"
            ]
          },
          "metadata": {},
          "execution_count": 47
        }
      ]
    },
    {
      "cell_type": "code",
      "source": [
        "def solution(n, costs):\n",
        "    sort_costs=sorted(costs, key=lambda x:x[2])\n",
        "    connect = set([sort_costs[0][0]])\n",
        "    answer = 0\n",
        "    while len(connect) != n:\n",
        "        for cost in sort_costs:\n",
        "            first = cost[0]\n",
        "            second = cost[1]\n",
        "            if first in connect and second in connect: # 연결된 경우\n",
        "                continue\n",
        "            if first in connect or second in connect:\n",
        "                connect.update([first, second])\n",
        "                answer += cost[2]\n",
        "                break\n",
        "    return answer"
      ],
      "metadata": {
        "id": "RguLbeO1bbKm"
      },
      "execution_count": 49,
      "outputs": []
    },
    {
      "cell_type": "code",
      "source": [
        "solution(7,  [[2, 3, 7], [3, 6, 13], [3, 5, 23], [5, 6, 25], [0, 1, 29], [1, 5, 34], [1, 2, 35], [4, 5, 53], [0, 4, 75]])"
      ],
      "metadata": {
        "colab": {
          "base_uri": "https://localhost:8080/"
        },
        "id": "aog9BCFxe0yi",
        "outputId": "4364be4c-bf43-4574-b33d-5814b229ce15"
      },
      "execution_count": 50,
      "outputs": [
        {
          "output_type": "execute_result",
          "data": {
            "text/plain": [
              "159"
            ]
          },
          "metadata": {},
          "execution_count": 50
        }
      ]
    },
    {
      "cell_type": "code",
      "source": [],
      "metadata": {
        "id": "6w_ENpb8kxjs"
      },
      "execution_count": null,
      "outputs": []
    }
  ]
}