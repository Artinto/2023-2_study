{
 "cells": [
  {
   "cell_type": "code",
   "execution_count": 26,
   "metadata": {},
   "outputs": [],
   "source": [
    "''' \n",
    "1번은 +, - , / , *\n",
    "2번은 2번 연달아\n",
    "      1번 + 1번\n",
    "3번은 3번 연달아\n",
    "      1번 + 2번\n",
    "      2번 + 1번\n",
    "4번은 4번 연달아\n",
    "      1번 + 3번\n",
    "      2번 + 2번\n",
    "      3번 + 1번\n",
    "5번은 5번 연달아\n",
    "      1번 + 4번\n",
    "      2번 + 3번\n",
    "      3번 + 2번\n",
    "      4번 + 1번\n",
    "'''\n",
    "def solution(N, number):\n",
    "    answer = -1\n",
    "    number_list = []\n",
    "    if N == number:\n",
    "        return 1\n",
    "    for count in range(1, 9): # max가 8\n",
    "        temp_set = set() # 집합 초기화\n",
    "        temp_set.add(int(str(N)*count))\n",
    "        for i in range(count-1):\n",
    "            for x in number_list[i]: #앞에서부터\n",
    "                for y in number_list[-i-1]: #뒤에서부터\n",
    "                    temp_set.add(x+y)\n",
    "                    temp_set.add(x-y)\n",
    "                    temp_set.add(x*y)\n",
    "                    if y!= 0:\n",
    "                        temp_set.add(x/y)\n",
    "        if number in temp_set:\n",
    "            return count\n",
    "        number_list.append(temp_set)\n",
    "    return answer\n"
   ]
  },
  {
   "cell_type": "code",
   "execution_count": 27,
   "metadata": {},
   "outputs": [
    {
     "data": {
      "text/plain": [
       "-1"
      ]
     },
     "execution_count": 27,
     "metadata": {},
     "output_type": "execute_result"
    }
   ],
   "source": [
    "solution(5, 31168)"
   ]
  }
 ],
 "metadata": {
  "kernelspec": {
   "display_name": "Python 3",
   "language": "python",
   "name": "python3"
  },
  "language_info": {
   "codemirror_mode": {
    "name": "ipython",
    "version": 3
   },
   "file_extension": ".py",
   "mimetype": "text/x-python",
   "name": "python",
   "nbconvert_exporter": "python",
   "pygments_lexer": "ipython3",
   "version": "3.11.3"
  }
 },
 "nbformat": 4,
 "nbformat_minor": 2
}
