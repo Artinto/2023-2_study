{
  "nbformat": 4,
  "nbformat_minor": 0,
  "metadata": {
    "colab": {
      "provenance": [],
      "toc_visible": true
    },
    "kernelspec": {
      "name": "python3",
      "display_name": "Python 3"
    },
    "language_info": {
      "name": "python"
    }
  },
  "cells": [
    {
      "cell_type": "code",
      "execution_count": 37,
      "metadata": {
        "id": "hlEwrgHiM_aB"
      },
      "outputs": [],
      "source": [
        "from math import ceil\n",
        "from collections import deque\n",
        "def solution(progresses, speeds):\n",
        "    answer = []\n",
        "    progre = deque()\n",
        "    temp  = 1\n",
        "    len_pro = len(progresses)\n",
        "    for i, (pgrs, spd) in enumerate(zip(progresses, speeds)):\n",
        "        day = ceil((100-pgrs)/spd)\n",
        "        progre.append(day)\n",
        "        print(progre)\n",
        "        if progre[0] == day:\n",
        "            if i != 0:\n",
        "                temp += 1\n",
        "                progre.pop()\n",
        "        elif progre[0] > day:\n",
        "            temp += 1\n",
        "            progre.pop()\n",
        "        elif progre[0] < day:\n",
        "            progre.popleft()\n",
        "            answer.append(temp)\n",
        "            temp = 1\n",
        "        if i == len_pro-1: # 마지막일때\n",
        "            answer.append(temp)\n",
        "    return answer"
      ]
    }
  ]
}