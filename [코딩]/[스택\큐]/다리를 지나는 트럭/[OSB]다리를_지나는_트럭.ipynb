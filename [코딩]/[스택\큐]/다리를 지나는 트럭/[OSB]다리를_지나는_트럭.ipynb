{
  "nbformat": 4,
  "nbformat_minor": 0,
  "metadata": {
    "colab": {
      "provenance": []
    },
    "kernelspec": {
      "name": "python3",
      "display_name": "Python 3"
    },
    "language_info": {
      "name": "python"
    }
  },
  "cells": [
    {
      "cell_type": "code",
      "execution_count": null,
      "metadata": {
        "id": "X-bUq0ddnes9"
      },
      "outputs": [],
      "source": [
        "from collections import deque\n",
        "def solution(bridge_length, weight, truck_weights):\n",
        "    answer = 0\n",
        "    t_list = deque() # 트럭 모음\n",
        "    truck_index = 0\n",
        "    total_weight = 0\n",
        "    len_truck = len(truck_weights)\n",
        "    time_list = deque() # 시간 모음\n",
        "    while True:\n",
        "        if truck_index < len_truck:\n",
        "            if weight - total_weight - truck_weights[truck_index] >= 0: #다리에 올릴 수 있는 상황\n",
        "                t_list.append(truck_weights[truck_index])\n",
        "                total_weight+= truck_weights[truck_index]\n",
        "                truck_index+=1\n",
        "                time_list.append(answer) #\n",
        "                pass\n",
        "            else:\n",
        "                if answer - time_list[0] == bridge_length: # 트럭이 빠지는 순간.\n",
        "                    time_list.popleft()\n",
        "                    total_weight-= t_list.popleft()\n",
        "                    continue\n",
        "        else:\n",
        "            if answer - time_list[0] == bridge_length: # 트럭이 빠지는 순간.\n",
        "                time_list.popleft()\n",
        "                if not time_list:\n",
        "                    break\n",
        "                total_weight-= t_list.popleft()\n",
        "\n",
        "        answer+=1 # 시간 흘러가기\n",
        "    return answer+1"
      ]
    },
    {
      "cell_type": "markdown",
      "source": [
        "* 시간 초과 오류\n",
        "* 반복문의 횟수를 줄여야함.(1초단위로 계산했을 때)\n",
        "* 다리의 길이에 올라는 용도로만 파악."
      ],
      "metadata": {
        "id": "1YGVefA9s7O7"
      }
    },
    {
      "cell_type": "code",
      "source": [
        "from collections import deque\n",
        "def solution(bridge_length, weight, truck_weights):\n",
        "    answer = 0\n",
        "    onbridge = deque(0 for _ in range(bridge_length))\n",
        "    truck_weights = deque(truck_weights)\n",
        "    t_weight = 0\n",
        "    while(onbridge):\n",
        "        answer+=1 # 시간\n",
        "        onbridge.popleft()\n",
        "        if truck_weights:\n",
        "            # 넣고 싶은 싶은 트럭 올라가 있는 트럭\n",
        "            if (truck_weights[0] + sum(onbridge) <= weight):\n",
        "                onbridge.append(truck_weights.popleft())\n",
        "            else:\n",
        "                onbridge.append(0) # 0을 넣어 유지.\n",
        "    return answer"
      ],
      "metadata": {
        "id": "L8-mOADynxAs"
      },
      "execution_count": 3,
      "outputs": []
    }
  ]
}