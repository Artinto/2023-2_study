{
  "nbformat": 4,
  "nbformat_minor": 0,
  "metadata": {
    "colab": {
      "provenance": []
    },
    "kernelspec": {
      "name": "python3",
      "display_name": "Python 3"
    },
    "language_info": {
      "name": "python"
    }
  },
  "cells": [
    {
      "cell_type": "markdown",
      "source": [
        "## **Gan(2015)**"
      ],
      "metadata": {
        "id": "ITrcuabsNfhJ"
      }
    },
    {
      "cell_type": "markdown",
      "source": [
        "### Abstract\n",
        "* 모델이 깊어질수록 학습하는 것이 어려움\n",
        "* Residual Learning Framework를 통해 모델의 깊이가 깊어져도 정확도 상승\n",
        "* 152개의 Layer를 쌓았음에도 VGG보다 복잡도가 낮았고 ImageNet Dataset에 대해 3.57% Error를 달성\n"
      ],
      "metadata": {
        "id": "QhKaUC5-NuO3"
      }
    }
  ]
}